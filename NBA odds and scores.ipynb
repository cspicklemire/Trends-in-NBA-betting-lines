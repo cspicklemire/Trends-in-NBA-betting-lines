{
 "cells": [
  {
   "cell_type": "code",
   "execution_count": 1,
   "metadata": {
    "scrolled": true
   },
   "outputs": [],
   "source": [
    "%matplotlib inline\n",
    "\n",
    "from util import ml_to_pct, populateDataFrame\n",
    "import pandas as pd\n",
    "import numpy as np\n",
    "import matplotlib.pyplot as plt\n",
    "from scipy.optimize import curve_fit"
   ]
  },
  {
   "cell_type": "code",
   "execution_count": null,
   "metadata": {},
   "outputs": [],
   "source": [
    "pd.read"
   ]
  },
  {
   "cell_type": "code",
   "execution_count": 2,
   "metadata": {
    "scrolled": true
   },
   "outputs": [],
   "source": [
    "df = populateDataFrame(\"https://sportsbookreviewsonline.com/scoresoddsarchives/nba/nba%20odds%202018-19.xlsx\")\n"
   ]
  },
  {
   "cell_type": "code",
   "execution_count": 3,
   "metadata": {},
   "outputs": [
    {
     "data": {
      "text/html": [
       "<div>\n",
       "<style scoped>\n",
       "    .dataframe tbody tr th:only-of-type {\n",
       "        vertical-align: middle;\n",
       "    }\n",
       "\n",
       "    .dataframe tbody tr th {\n",
       "        vertical-align: top;\n",
       "    }\n",
       "\n",
       "    .dataframe thead th {\n",
       "        text-align: right;\n",
       "    }\n",
       "</style>\n",
       "<table border=\"1\" class=\"dataframe\">\n",
       "  <thead>\n",
       "    <tr style=\"text-align: right;\">\n",
       "      <th></th>\n",
       "      <th>gameID</th>\n",
       "      <th>Date</th>\n",
       "      <th>Home</th>\n",
       "      <th>Away</th>\n",
       "      <th>HomeWpct</th>\n",
       "      <th>AwayWpct</th>\n",
       "      <th>Favorite</th>\n",
       "      <th>Underdog</th>\n",
       "      <th>Winner</th>\n",
       "      <th>Upset?</th>\n",
       "      <th>...</th>\n",
       "      <th>AwayMLPct</th>\n",
       "      <th>TotalMLPct</th>\n",
       "      <th>OpenOU</th>\n",
       "      <th>CloseOU</th>\n",
       "      <th>OUResult</th>\n",
       "      <th>OpenSpread</th>\n",
       "      <th>CloseSpread</th>\n",
       "      <th>Cover?</th>\n",
       "      <th>2HOU</th>\n",
       "      <th>2HSpread</th>\n",
       "    </tr>\n",
       "  </thead>\n",
       "  <tbody>\n",
       "    <tr>\n",
       "      <th>0</th>\n",
       "      <td>2018190613001</td>\n",
       "      <td>613</td>\n",
       "      <td>GoldenState</td>\n",
       "      <td>Toronto</td>\n",
       "      <td>0.689</td>\n",
       "      <td>0.695</td>\n",
       "      <td>GoldenState</td>\n",
       "      <td>Toronto</td>\n",
       "      <td>Toronto</td>\n",
       "      <td>Yes</td>\n",
       "      <td>...</td>\n",
       "      <td>0.446429</td>\n",
       "      <td>1.036593</td>\n",
       "      <td>211.0</td>\n",
       "      <td>211.5</td>\n",
       "      <td>Over</td>\n",
       "      <td>4.0</td>\n",
       "      <td>2.5</td>\n",
       "      <td>No</td>\n",
       "      <td>107.5</td>\n",
       "      <td>2</td>\n",
       "    </tr>\n",
       "  </tbody>\n",
       "</table>\n",
       "<p>1 rows × 33 columns</p>\n",
       "</div>"
      ],
      "text/plain": [
       "          gameID  Date         Home     Away  HomeWpct  AwayWpct     Favorite  \\\n",
       "0  2018190613001   613  GoldenState  Toronto     0.689     0.695  GoldenState   \n",
       "\n",
       "  Underdog   Winner Upset?  ...  AwayMLPct  TotalMLPct  OpenOU  CloseOU  \\\n",
       "0  Toronto  Toronto    Yes  ...   0.446429    1.036593   211.0    211.5   \n",
       "\n",
       "   OUResult  OpenSpread  CloseSpread  Cover?   2HOU  2HSpread  \n",
       "0      Over         4.0          2.5      No  107.5         2  \n",
       "\n",
       "[1 rows x 33 columns]"
      ]
     },
     "execution_count": 3,
     "metadata": {},
     "output_type": "execute_result"
    }
   ],
   "source": [
    "df"
   ]
  },
  {
   "cell_type": "code",
   "execution_count": null,
   "metadata": {},
   "outputs": [],
   "source": [
    "\n"
   ]
  },
  {
   "cell_type": "code",
   "execution_count": null,
   "metadata": {
    "scrolled": false
   },
   "outputs": [],
   "source": []
  },
  {
   "cell_type": "code",
   "execution_count": null,
   "metadata": {},
   "outputs": [],
   "source": []
  },
  {
   "cell_type": "code",
   "execution_count": null,
   "metadata": {},
   "outputs": [],
   "source": []
  },
  {
   "cell_type": "markdown",
   "metadata": {},
   "source": []
  },
  {
   "cell_type": "code",
   "execution_count": null,
   "metadata": {},
   "outputs": [],
   "source": []
  },
  {
   "cell_type": "code",
   "execution_count": null,
   "metadata": {},
   "outputs": [],
   "source": []
  },
  {
   "cell_type": "code",
   "execution_count": null,
   "metadata": {},
   "outputs": [],
   "source": [
    "\n"
   ]
  },
  {
   "cell_type": "code",
   "execution_count": null,
   "metadata": {},
   "outputs": [],
   "source": [
    "\n",
    "\n",
    "\n",
    "\n",
    "\n",
    "        \n",
    "\n",
    "\n"
   ]
  },
  {
   "cell_type": "code",
   "execution_count": null,
   "metadata": {},
   "outputs": [],
   "source": []
  },
  {
   "cell_type": "code",
   "execution_count": null,
   "metadata": {},
   "outputs": [],
   "source": []
  },
  {
   "cell_type": "code",
   "execution_count": null,
   "metadata": {},
   "outputs": [],
   "source": []
  },
  {
   "cell_type": "code",
   "execution_count": null,
   "metadata": {},
   "outputs": [],
   "source": []
  },
  {
   "cell_type": "code",
   "execution_count": null,
   "metadata": {},
   "outputs": [],
   "source": []
  },
  {
   "cell_type": "code",
   "execution_count": null,
   "metadata": {
    "scrolled": false
   },
   "outputs": [],
   "source": [
    "dfExp =  df[( df.HomeML > 0 ) | (df.AwayML > 0 )]\n",
    "plt.figure()\n",
    "plt.plot(dfExp.HomeML, dfExp.AwayML,'b.')\n",
    "plt.grid()\n",
    "plt.show()"
   ]
  },
  {
   "cell_type": "code",
   "execution_count": null,
   "metadata": {
    "scrolled": true
   },
   "outputs": [],
   "source": [
    "def fit_func(x, A, B, C, D):\n",
    "    return -A*(np.exp(B*x)-1) + C*x + D\n",
    "    \n",
    "A0 = 1000\n",
    "B0 = .005\n",
    "C0 = -1\n",
    "D0 = 0\n",
    "\n",
    "par, cov = curve_fit(fit_func, dfExp.HomeML, dfExp.AwayML, p0=(A0,B0,C0,D0))\n",
    "\n",
    "A, B, C, D = par\n",
    "dA, dB, dC, dD = np.sqrt(np.diag(cov))\n",
    "\n",
    "xfit = np.array(sorted(dfExp.HomeML.values))\n",
    "yfit = fit_func(xfit, A, B, C, D)\n",
    "plt.figure()\n",
    "plt.plot(dfExp.HomeML, dfExp.AwayML,'b.')\n",
    "plt.plot(xfit, yfit, 'r-')\n",
    "plt.grid()\n",
    "\n",
    "print(A,dA)\n",
    "print(B,dB)\n",
    "print(C,dC)\n",
    "print(D,dD)"
   ]
  },
  {
   "cell_type": "code",
   "execution_count": null,
   "metadata": {
    "scrolled": true
   },
   "outputs": [],
   "source": [
    "plt.figure()\n",
    "plt.plot(df.HomeML, df.TotalMLPct, '.')\n",
    "plt.grid()"
   ]
  },
  {
   "cell_type": "code",
   "execution_count": null,
   "metadata": {},
   "outputs": [],
   "source": [
    "homeFavs = df[df['Home'] == df['Favorite']]\n",
    "lowPct = homeFavs[homeFavs['TotalMLPct'] < 1.04]"
   ]
  },
  {
   "cell_type": "code",
   "execution_count": null,
   "metadata": {},
   "outputs": [],
   "source": [
    "plt.figure()\n",
    "plt.grid()\n",
    "plt.plot(homeFavs.HomeML, homeFavs.TotalMLPct, '.')"
   ]
  },
  {
   "cell_type": "code",
   "execution_count": null,
   "metadata": {},
   "outputs": [],
   "source": []
  },
  {
   "cell_type": "code",
   "execution_count": null,
   "metadata": {},
   "outputs": [],
   "source": []
  },
  {
   "cell_type": "code",
   "execution_count": null,
   "metadata": {},
   "outputs": [],
   "source": []
  },
  {
   "cell_type": "code",
   "execution_count": null,
   "metadata": {},
   "outputs": [],
   "source": [
    "plt.figure()\n",
    "plt.plot(homeFavs.HomeML, homeFavs.CloseSpread, '.')\n",
    "\n",
    "\n",
    "\n",
    "plt.grid()"
   ]
  },
  {
   "cell_type": "code",
   "execution_count": null,
   "metadata": {},
   "outputs": [],
   "source": []
  },
  {
   "cell_type": "code",
   "execution_count": null,
   "metadata": {},
   "outputs": [],
   "source": [
    "def fit_func(x, A, B, C, D):\n",
    "    return np.log(abs(-x/A + D))*B + C*x"
   ]
  },
  {
   "cell_type": "code",
   "execution_count": null,
   "metadata": {},
   "outputs": [],
   "source": [
    "\n",
    "plt.figure()\n",
    "\n",
    "A0=1000\n",
    "B0=10\n",
    "C0=0.0001\n",
    "D0=1\n",
    "\n",
    "par, cov = curve_fit(fit_func, homeFavs.HomeML, homeFavs.CloseSpread, p0=(A0,B0,C0,D0))\n",
    "\n",
    "A, B, C, D = par\n",
    "dA, dB, dC, dD = np.sqrt(np.diag(cov))\n",
    "\n",
    "sortedData = sorted(homeFavs.HomeML.values)\n",
    "xfit = np.linspace(sortedData[0],sortedData[-1],1000)\n",
    "yfit = fit_func(xfit, A, B, C, D)\n",
    "\n",
    "plt.figure()\n",
    "plt.plot(homeFavs.HomeML, homeFavs.CloseSpread,'b.')\n",
    "plt.plot(xfit, yfit, 'r-')\n",
    "plt.grid()\n",
    "\n",
    "print(A,dA)\n",
    "print(B,dB)\n",
    "print(C,dC)\n",
    "print(D,dD)"
   ]
  },
  {
   "cell_type": "code",
   "execution_count": null,
   "metadata": {},
   "outputs": [],
   "source": [
    "df.gameID.count()"
   ]
  },
  {
   "cell_type": "code",
   "execution_count": null,
   "metadata": {},
   "outputs": [],
   "source": [
    "spread_Rise = df[df['CloseSpread'] > df['OpenSpread']]\n",
    "spread_Rise.gameID.count()\n",
    "\n",
    "\n",
    "\n"
   ]
  },
  {
   "cell_type": "code",
   "execution_count": null,
   "metadata": {},
   "outputs": [],
   "source": [
    "spread_Rise[spread_Rise['Cover?'] == 'Yes'].gameID.count()"
   ]
  },
  {
   "cell_type": "code",
   "execution_count": null,
   "metadata": {},
   "outputs": [],
   "source": [
    "pctCover = (spread_Rise[spread_Rise['Cover?'] == 'Yes'].gameID.count())/(spread_Rise.gameID.count())\n",
    "pctCover"
   ]
  },
  {
   "cell_type": "code",
   "execution_count": null,
   "metadata": {},
   "outputs": [],
   "source": []
  },
  {
   "cell_type": "code",
   "execution_count": null,
   "metadata": {},
   "outputs": [],
   "source": [
    "spread_Fall = df[df['CloseSpread'] < df['OpenSpread']]\n",
    "spread_Fall.gameID.count()"
   ]
  },
  {
   "cell_type": "code",
   "execution_count": null,
   "metadata": {},
   "outputs": [],
   "source": [
    "spread_Fall[spread_Fall['Cover?'] == 'Yes'].gameID.count()"
   ]
  },
  {
   "cell_type": "code",
   "execution_count": null,
   "metadata": {},
   "outputs": [],
   "source": [
    "pctCover = (spread_Fall[spread_Fall['Cover?'] == 'Yes'].gameID.count())/(spread_Fall.gameID.count())\n",
    "pctCover"
   ]
  },
  {
   "cell_type": "code",
   "execution_count": null,
   "metadata": {},
   "outputs": [],
   "source": [
    "spread_Constant = df[df['CloseSpread'] == df['OpenSpread']]"
   ]
  },
  {
   "cell_type": "code",
   "execution_count": null,
   "metadata": {},
   "outputs": [],
   "source": []
  },
  {
   "cell_type": "code",
   "execution_count": null,
   "metadata": {},
   "outputs": [],
   "source": []
  },
  {
   "cell_type": "code",
   "execution_count": null,
   "metadata": {},
   "outputs": [],
   "source": []
  },
  {
   "cell_type": "code",
   "execution_count": null,
   "metadata": {},
   "outputs": [],
   "source": []
  },
  {
   "cell_type": "code",
   "execution_count": null,
   "metadata": {},
   "outputs": [],
   "source": []
  }
 ],
 "metadata": {
  "kernelspec": {
   "display_name": "Python 3",
   "language": "python",
   "name": "python3"
  },
  "language_info": {
   "codemirror_mode": {
    "name": "ipython",
    "version": 3
   },
   "file_extension": ".py",
   "mimetype": "text/x-python",
   "name": "python",
   "nbconvert_exporter": "python",
   "pygments_lexer": "ipython3",
   "version": "3.8.3"
  }
 },
 "nbformat": 4,
 "nbformat_minor": 2
}
