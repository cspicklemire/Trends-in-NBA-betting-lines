{
 "cells": [
  {
   "cell_type": "code",
   "execution_count": 1,
   "metadata": {
    "scrolled": true
   },
   "outputs": [],
   "source": [
    "%matplotlib inline\n",
    "\n",
    "from util import ml_to_pct, populateDataFrame\n",
    "import pandas as pd\n",
    "import numpy as np\n",
    "import matplotlib.pyplot as plt\n",
    "from scipy.optimize import curve_fit"
   ]
  },
  {
   "cell_type": "code",
   "execution_count": 2,
   "metadata": {
    "scrolled": true
   },
   "outputs": [],
   "source": [
    "df = populateDataFrame(\"https://sportsbookreviewsonline.com/scoresoddsarchives/nba/nba%20odds%202018-19.xlsx\")\n"
   ]
  },
  {
   "cell_type": "code",
   "execution_count": 3,
   "metadata": {},
   "outputs": [
    {
     "data": {
      "text/html": [
       "<div>\n",
       "<style scoped>\n",
       "    .dataframe tbody tr th:only-of-type {\n",
       "        vertical-align: middle;\n",
       "    }\n",
       "\n",
       "    .dataframe tbody tr th {\n",
       "        vertical-align: top;\n",
       "    }\n",
       "\n",
       "    .dataframe thead th {\n",
       "        text-align: right;\n",
       "    }\n",
       "</style>\n",
       "<table border=\"1\" class=\"dataframe\">\n",
       "  <thead>\n",
       "    <tr style=\"text-align: right;\">\n",
       "      <th></th>\n",
       "      <th>gameID</th>\n",
       "      <th>Date</th>\n",
       "      <th>Home</th>\n",
       "      <th>Away</th>\n",
       "      <th>HomeWpct</th>\n",
       "      <th>AwayWpct</th>\n",
       "      <th>Favorite</th>\n",
       "      <th>Underdog</th>\n",
       "      <th>Winner</th>\n",
       "      <th>Upset?</th>\n",
       "      <th>...</th>\n",
       "      <th>TotalMLPct</th>\n",
       "      <th>OpenOU</th>\n",
       "      <th>CloseOU</th>\n",
       "      <th>OUResult</th>\n",
       "      <th>OpenSpread</th>\n",
       "      <th>CloseSpread</th>\n",
       "      <th>Margin</th>\n",
       "      <th>Cover?</th>\n",
       "      <th>2HOU</th>\n",
       "      <th>2HSpread</th>\n",
       "    </tr>\n",
       "  </thead>\n",
       "  <tbody>\n",
       "    <tr>\n",
       "      <th>0</th>\n",
       "      <td>2018191016001</td>\n",
       "      <td>1016</td>\n",
       "      <td>Boston</td>\n",
       "      <td>Philadelphia</td>\n",
       "      <td>0.000</td>\n",
       "      <td>0.000</td>\n",
       "      <td>Boston</td>\n",
       "      <td>Philadelphia</td>\n",
       "      <td>Boston</td>\n",
       "      <td>No</td>\n",
       "      <td>...</td>\n",
       "      <td>1.037037</td>\n",
       "      <td>208.5</td>\n",
       "      <td>211.5</td>\n",
       "      <td>Under</td>\n",
       "      <td>5.0</td>\n",
       "      <td>4.5</td>\n",
       "      <td>18</td>\n",
       "      <td>Yes</td>\n",
       "      <td>106.0</td>\n",
       "      <td>1.0</td>\n",
       "    </tr>\n",
       "    <tr>\n",
       "      <th>1</th>\n",
       "      <td>2018191016002</td>\n",
       "      <td>1016</td>\n",
       "      <td>GoldenState</td>\n",
       "      <td>OklahomaCity</td>\n",
       "      <td>0.000</td>\n",
       "      <td>0.000</td>\n",
       "      <td>GoldenState</td>\n",
       "      <td>OklahomaCity</td>\n",
       "      <td>GoldenState</td>\n",
       "      <td>No</td>\n",
       "      <td>...</td>\n",
       "      <td>1.039971</td>\n",
       "      <td>223.5</td>\n",
       "      <td>220.5</td>\n",
       "      <td>Under</td>\n",
       "      <td>11.5</td>\n",
       "      <td>12.0</td>\n",
       "      <td>8</td>\n",
       "      <td>No</td>\n",
       "      <td>108.5</td>\n",
       "      <td>4.5</td>\n",
       "    </tr>\n",
       "    <tr>\n",
       "      <th>2</th>\n",
       "      <td>2018191017001</td>\n",
       "      <td>1017</td>\n",
       "      <td>Indiana</td>\n",
       "      <td>Memphis</td>\n",
       "      <td>0.000</td>\n",
       "      <td>0.000</td>\n",
       "      <td>Indiana</td>\n",
       "      <td>Memphis</td>\n",
       "      <td>Indiana</td>\n",
       "      <td>No</td>\n",
       "      <td>...</td>\n",
       "      <td>1.040188</td>\n",
       "      <td>209.0</td>\n",
       "      <td>204.5</td>\n",
       "      <td>Under</td>\n",
       "      <td>7.0</td>\n",
       "      <td>7.5</td>\n",
       "      <td>28</td>\n",
       "      <td>Yes</td>\n",
       "      <td>99.0</td>\n",
       "      <td>1.0</td>\n",
       "    </tr>\n",
       "    <tr>\n",
       "      <th>3</th>\n",
       "      <td>2018191017002</td>\n",
       "      <td>1017</td>\n",
       "      <td>Charlotte</td>\n",
       "      <td>Milwaukee</td>\n",
       "      <td>0.000</td>\n",
       "      <td>0.000</td>\n",
       "      <td>Milwaukee</td>\n",
       "      <td>Charlotte</td>\n",
       "      <td>Milwaukee</td>\n",
       "      <td>No</td>\n",
       "      <td>...</td>\n",
       "      <td>1.032478</td>\n",
       "      <td>217.0</td>\n",
       "      <td>222.0</td>\n",
       "      <td>Over</td>\n",
       "      <td>1.5</td>\n",
       "      <td>3.0</td>\n",
       "      <td>1</td>\n",
       "      <td>No</td>\n",
       "      <td>114.0</td>\n",
       "      <td>2.5</td>\n",
       "    </tr>\n",
       "    <tr>\n",
       "      <th>4</th>\n",
       "      <td>2018191017003</td>\n",
       "      <td>1017</td>\n",
       "      <td>Orlando</td>\n",
       "      <td>Miami</td>\n",
       "      <td>0.000</td>\n",
       "      <td>0.000</td>\n",
       "      <td>Miami</td>\n",
       "      <td>Orlando</td>\n",
       "      <td>Orlando</td>\n",
       "      <td>Yes</td>\n",
       "      <td>...</td>\n",
       "      <td>1.039584</td>\n",
       "      <td>210.5</td>\n",
       "      <td>208.0</td>\n",
       "      <td>Under</td>\n",
       "      <td>2.0</td>\n",
       "      <td>2.5</td>\n",
       "      <td>-3</td>\n",
       "      <td>No</td>\n",
       "      <td>103.0</td>\n",
       "      <td>3.0</td>\n",
       "    </tr>\n",
       "    <tr>\n",
       "      <th>...</th>\n",
       "      <td>...</td>\n",
       "      <td>...</td>\n",
       "      <td>...</td>\n",
       "      <td>...</td>\n",
       "      <td>...</td>\n",
       "      <td>...</td>\n",
       "      <td>...</td>\n",
       "      <td>...</td>\n",
       "      <td>...</td>\n",
       "      <td>...</td>\n",
       "      <td>...</td>\n",
       "      <td>...</td>\n",
       "      <td>...</td>\n",
       "      <td>...</td>\n",
       "      <td>...</td>\n",
       "      <td>...</td>\n",
       "      <td>...</td>\n",
       "      <td>...</td>\n",
       "      <td>...</td>\n",
       "      <td>...</td>\n",
       "      <td>...</td>\n",
       "    </tr>\n",
       "    <tr>\n",
       "      <th>1307</th>\n",
       "      <td>2018190602001</td>\n",
       "      <td>602</td>\n",
       "      <td>Toronto</td>\n",
       "      <td>GoldenState</td>\n",
       "      <td>0.703</td>\n",
       "      <td>0.697</td>\n",
       "      <td>Toronto</td>\n",
       "      <td>GoldenState</td>\n",
       "      <td>GoldenState</td>\n",
       "      <td>Yes</td>\n",
       "      <td>...</td>\n",
       "      <td>1.038889</td>\n",
       "      <td>216.0</td>\n",
       "      <td>213.5</td>\n",
       "      <td>Under</td>\n",
       "      <td>1.0</td>\n",
       "      <td>2.5</td>\n",
       "      <td>-5</td>\n",
       "      <td>No</td>\n",
       "      <td>106.5</td>\n",
       "      <td>1.0</td>\n",
       "    </tr>\n",
       "    <tr>\n",
       "      <th>1308</th>\n",
       "      <td>2018190605001</td>\n",
       "      <td>605</td>\n",
       "      <td>GoldenState</td>\n",
       "      <td>Toronto</td>\n",
       "      <td>0.700</td>\n",
       "      <td>0.696</td>\n",
       "      <td>GoldenState</td>\n",
       "      <td>Toronto</td>\n",
       "      <td>Toronto</td>\n",
       "      <td>Yes</td>\n",
       "      <td>...</td>\n",
       "      <td>1.039939</td>\n",
       "      <td>214.0</td>\n",
       "      <td>209.5</td>\n",
       "      <td>Over</td>\n",
       "      <td>5.5</td>\n",
       "      <td>2.5</td>\n",
       "      <td>-14</td>\n",
       "      <td>No</td>\n",
       "      <td>108.0</td>\n",
       "      <td>3.5</td>\n",
       "    </tr>\n",
       "    <tr>\n",
       "      <th>1309</th>\n",
       "      <td>2018190607001</td>\n",
       "      <td>607</td>\n",
       "      <td>GoldenState</td>\n",
       "      <td>Toronto</td>\n",
       "      <td>0.693</td>\n",
       "      <td>0.699</td>\n",
       "      <td>GoldenState</td>\n",
       "      <td>Toronto</td>\n",
       "      <td>Toronto</td>\n",
       "      <td>Yes</td>\n",
       "      <td>...</td>\n",
       "      <td>1.039836</td>\n",
       "      <td>216.0</td>\n",
       "      <td>215.0</td>\n",
       "      <td>Under</td>\n",
       "      <td>4.5</td>\n",
       "      <td>5.0</td>\n",
       "      <td>-13</td>\n",
       "      <td>No</td>\n",
       "      <td>110.5</td>\n",
       "      <td>1.5</td>\n",
       "    </tr>\n",
       "    <tr>\n",
       "      <th>1310</th>\n",
       "      <td>2018190610001</td>\n",
       "      <td>610</td>\n",
       "      <td>Toronto</td>\n",
       "      <td>GoldenState</td>\n",
       "      <td>0.702</td>\n",
       "      <td>0.686</td>\n",
       "      <td>Toronto</td>\n",
       "      <td>GoldenState</td>\n",
       "      <td>GoldenState</td>\n",
       "      <td>Yes</td>\n",
       "      <td>...</td>\n",
       "      <td>1.047425</td>\n",
       "      <td>212.0</td>\n",
       "      <td>217.0</td>\n",
       "      <td>Under</td>\n",
       "      <td>3.0</td>\n",
       "      <td>1.0</td>\n",
       "      <td>-1</td>\n",
       "      <td>No</td>\n",
       "      <td>107.0</td>\n",
       "      <td>5.0</td>\n",
       "    </tr>\n",
       "    <tr>\n",
       "      <th>1311</th>\n",
       "      <td>2018190613001</td>\n",
       "      <td>613</td>\n",
       "      <td>GoldenState</td>\n",
       "      <td>Toronto</td>\n",
       "      <td>0.689</td>\n",
       "      <td>0.695</td>\n",
       "      <td>GoldenState</td>\n",
       "      <td>Toronto</td>\n",
       "      <td>Toronto</td>\n",
       "      <td>Yes</td>\n",
       "      <td>...</td>\n",
       "      <td>1.036593</td>\n",
       "      <td>211.0</td>\n",
       "      <td>211.5</td>\n",
       "      <td>Over</td>\n",
       "      <td>4.0</td>\n",
       "      <td>2.5</td>\n",
       "      <td>-4</td>\n",
       "      <td>No</td>\n",
       "      <td>107.5</td>\n",
       "      <td>2.0</td>\n",
       "    </tr>\n",
       "  </tbody>\n",
       "</table>\n",
       "<p>1312 rows × 34 columns</p>\n",
       "</div>"
      ],
      "text/plain": [
       "             gameID  Date         Home          Away  HomeWpct  AwayWpct  \\\n",
       "0     2018191016001  1016       Boston  Philadelphia     0.000     0.000   \n",
       "1     2018191016002  1016  GoldenState  OklahomaCity     0.000     0.000   \n",
       "2     2018191017001  1017      Indiana       Memphis     0.000     0.000   \n",
       "3     2018191017002  1017    Charlotte     Milwaukee     0.000     0.000   \n",
       "4     2018191017003  1017      Orlando         Miami     0.000     0.000   \n",
       "...             ...   ...          ...           ...       ...       ...   \n",
       "1307  2018190602001   602      Toronto   GoldenState     0.703     0.697   \n",
       "1308  2018190605001   605  GoldenState       Toronto     0.700     0.696   \n",
       "1309  2018190607001   607  GoldenState       Toronto     0.693     0.699   \n",
       "1310  2018190610001   610      Toronto   GoldenState     0.702     0.686   \n",
       "1311  2018190613001   613  GoldenState       Toronto     0.689     0.695   \n",
       "\n",
       "         Favorite      Underdog       Winner Upset?  ...  TotalMLPct  OpenOU  \\\n",
       "0          Boston  Philadelphia       Boston     No  ...    1.037037   208.5   \n",
       "1     GoldenState  OklahomaCity  GoldenState     No  ...    1.039971   223.5   \n",
       "2         Indiana       Memphis      Indiana     No  ...    1.040188   209.0   \n",
       "3       Milwaukee     Charlotte    Milwaukee     No  ...    1.032478   217.0   \n",
       "4           Miami       Orlando      Orlando    Yes  ...    1.039584   210.5   \n",
       "...           ...           ...          ...    ...  ...         ...     ...   \n",
       "1307      Toronto   GoldenState  GoldenState    Yes  ...    1.038889   216.0   \n",
       "1308  GoldenState       Toronto      Toronto    Yes  ...    1.039939   214.0   \n",
       "1309  GoldenState       Toronto      Toronto    Yes  ...    1.039836   216.0   \n",
       "1310      Toronto   GoldenState  GoldenState    Yes  ...    1.047425   212.0   \n",
       "1311  GoldenState       Toronto      Toronto    Yes  ...    1.036593   211.0   \n",
       "\n",
       "      CloseOU  OUResult  OpenSpread  CloseSpread  Margin  Cover?   2HOU  \\\n",
       "0       211.5     Under         5.0          4.5      18     Yes  106.0   \n",
       "1       220.5     Under        11.5         12.0       8      No  108.5   \n",
       "2       204.5     Under         7.0          7.5      28     Yes   99.0   \n",
       "3       222.0      Over         1.5          3.0       1      No  114.0   \n",
       "4       208.0     Under         2.0          2.5      -3      No  103.0   \n",
       "...       ...       ...         ...          ...     ...     ...    ...   \n",
       "1307    213.5     Under         1.0          2.5      -5      No  106.5   \n",
       "1308    209.5      Over         5.5          2.5     -14      No  108.0   \n",
       "1309    215.0     Under         4.5          5.0     -13      No  110.5   \n",
       "1310    217.0     Under         3.0          1.0      -1      No  107.0   \n",
       "1311    211.5      Over         4.0          2.5      -4      No  107.5   \n",
       "\n",
       "      2HSpread  \n",
       "0          1.0  \n",
       "1          4.5  \n",
       "2          1.0  \n",
       "3          2.5  \n",
       "4          3.0  \n",
       "...        ...  \n",
       "1307       1.0  \n",
       "1308       3.5  \n",
       "1309       1.5  \n",
       "1310       5.0  \n",
       "1311       2.0  \n",
       "\n",
       "[1312 rows x 34 columns]"
      ]
     },
     "execution_count": 3,
     "metadata": {},
     "output_type": "execute_result"
    }
   ],
   "source": [
    "df"
   ]
  },
  {
   "cell_type": "code",
   "execution_count": null,
   "metadata": {},
   "outputs": [],
   "source": [
    "\n"
   ]
  },
  {
   "cell_type": "code",
   "execution_count": null,
   "metadata": {
    "scrolled": false
   },
   "outputs": [],
   "source": []
  },
  {
   "cell_type": "code",
   "execution_count": null,
   "metadata": {},
   "outputs": [],
   "source": []
  },
  {
   "cell_type": "code",
   "execution_count": null,
   "metadata": {},
   "outputs": [],
   "source": []
  },
  {
   "cell_type": "code",
   "execution_count": null,
   "metadata": {},
   "outputs": [],
   "source": []
  },
  {
   "cell_type": "code",
   "execution_count": null,
   "metadata": {},
   "outputs": [],
   "source": []
  },
  {
   "cell_type": "code",
   "execution_count": null,
   "metadata": {},
   "outputs": [],
   "source": [
    "\n"
   ]
  },
  {
   "cell_type": "code",
   "execution_count": null,
   "metadata": {},
   "outputs": [],
   "source": [
    "\n",
    "\n",
    "\n",
    "\n",
    "\n",
    "        \n",
    "\n",
    "\n"
   ]
  },
  {
   "cell_type": "code",
   "execution_count": null,
   "metadata": {},
   "outputs": [],
   "source": []
  },
  {
   "cell_type": "code",
   "execution_count": null,
   "metadata": {},
   "outputs": [],
   "source": []
  },
  {
   "cell_type": "code",
   "execution_count": null,
   "metadata": {},
   "outputs": [],
   "source": []
  },
  {
   "cell_type": "code",
   "execution_count": null,
   "metadata": {},
   "outputs": [],
   "source": []
  },
  {
   "cell_type": "code",
   "execution_count": null,
   "metadata": {},
   "outputs": [],
   "source": []
  },
  {
   "cell_type": "code",
   "execution_count": 4,
   "metadata": {
    "scrolled": true
   },
   "outputs": [
    {
     "data": {
      "image/png": "[encoded data removed]",
      "text/plain": [
       "<Figure size 432x288 with 1 Axes>"
      ]
     },
     "metadata": {
      "needs_background": "light"
     },
     "output_type": "display_data"
    }
   ],
   "source": [
    "dfExp =  df[( df.HomeML > 0 ) | (df.AwayML > 0 )]\n",
    "plt.figure()\n",
    "plt.plot(dfExp.HomeML, dfExp.AwayML,'b.')\n",
    "plt.grid()\n",
    "plt.show()"
   ]
  },
  {
   "cell_type": "code",
   "execution_count": 5,
   "metadata": {
    "scrolled": true
   },
   "outputs": [
    {
     "name": "stdout",
     "output_type": "stream",
     "text": [
      "719.865246118594 5.292500862310722\n",
      "0.001233958493656765 6.388599247503738e-06\n",
      "-0.15882823456438958 0.001794109158943976\n",
      "-18.89445449252996 0.5592973309467008\n"
     ]
    },
    {
     "data": {
      "image/png": "[encoded data removed]",
      "text/plain": [
       "<Figure size 432x288 with 1 Axes>"
      ]
     },
     "metadata": {
      "needs_background": "light"
     },
     "output_type": "display_data"
    }
   ],
   "source": [
    "def fit_func(x, A, B, C, D):\n",
    "    return -A*(np.exp(B*x)-1) + C*x + D\n",
    "    \n",
    "A0 = 1000\n",
    "B0 = .005\n",
    "C0 = -1\n",
    "D0 = 0\n",
    "\n",
    "par, cov = curve_fit(fit_func, dfExp.HomeML, dfExp.AwayML, p0=(A0,B0,C0,D0))\n",
    "\n",
    "A, B, C, D = par\n",
    "dA, dB, dC, dD = np.sqrt(np.diag(cov))\n",
    "\n",
    "xfit = np.array(sorted(dfExp.HomeML.values))\n",
    "yfit = fit_func(xfit, A, B, C, D)\n",
    "plt.figure()\n",
    "plt.plot(dfExp.HomeML, dfExp.AwayML,'b.')\n",
    "plt.plot(xfit, yfit, 'r-')\n",
    "plt.grid()\n",
    "\n",
    "print(A,dA)\n",
    "print(B,dB)\n",
    "print(C,dC)\n",
    "print(D,dD)"
   ]
  },
  {
   "cell_type": "code",
   "execution_count": 7,
   "metadata": {
    "scrolled": true
   },
   "outputs": [
    {
     "data": {
      "image/png": "[encoded data removed]",
      "text/plain": [
       "<Figure size 432x288 with 1 Axes>"
      ]
     },
     "metadata": {
      "needs_background": "light"
     },
     "output_type": "display_data"
    }
   ],
   "source": [
    "plt.figure()\n",
    "plt.plot(df.HomeML, df.TotalMLPct, '.')\n",
    "plt.grid()"
   ]
  },
  {
   "cell_type": "code",
   "execution_count": 8,
   "metadata": {},
   "outputs": [],
   "source": [
    "homeFavs = df[df['Home'] == df['Favorite']]\n",
    "lowPct = homeFavs[homeFavs['TotalMLPct'] < 1.04]"
   ]
  },
  {
   "cell_type": "code",
   "execution_count": 9,
   "metadata": {},
   "outputs": [
    {
     "data": {
      "text/plain": [
       "[<matplotlib.lines.Line2D at 0x121699b20>]"
      ]
     },
     "execution_count": 9,
     "metadata": {},
     "output_type": "execute_result"
    },
    {
     "data": {
      "image/png": "[encoded data removed]",
      "text/plain": [
       "<Figure size 432x288 with 1 Axes>"
      ]
     },
     "metadata": {
      "needs_background": "light"
     },
     "output_type": "display_data"
    }
   ],
   "source": [
    "plt.figure()\n",
    "plt.grid()\n",
    "plt.plot(homeFavs.HomeML, homeFavs.TotalMLPct, '.')"
   ]
  },
  {
   "cell_type": "code",
   "execution_count": null,
   "metadata": {},
   "outputs": [],
   "source": []
  },
  {
   "cell_type": "code",
   "execution_count": null,
   "metadata": {},
   "outputs": [],
   "source": []
  },
  {
   "cell_type": "code",
   "execution_count": null,
   "metadata": {},
   "outputs": [],
   "source": []
  },
  {
   "cell_type": "code",
   "execution_count": 10,
   "metadata": {},
   "outputs": [
    {
     "data": {
      "image/png": "[encoded data removed]",
      "text/plain": [
       "<Figure size 432x288 with 1 Axes>"
      ]
     },
     "metadata": {
      "needs_background": "light"
     },
     "output_type": "display_data"
    }
   ],
   "source": [
    "plt.figure()\n",
    "plt.plot(homeFavs.HomeML, homeFavs.CloseSpread, '.')\n",
    "\n",
    "\n",
    "\n",
    "plt.grid()"
   ]
  },
  {
   "cell_type": "code",
   "execution_count": null,
   "metadata": {},
   "outputs": [],
   "source": []
  },
  {
   "cell_type": "code",
   "execution_count": 11,
   "metadata": {},
   "outputs": [],
   "source": [
    "def fit_func(x, A, B, C, D):\n",
    "    return np.log(abs(-x/A + D))*B + C*x"
   ]
  },
  {
   "cell_type": "code",
   "execution_count": 12,
   "metadata": {},
   "outputs": [
    {
     "name": "stdout",
     "output_type": "stream",
     "text": [
      "39.97903319487287 1.0348745071849685\n",
      "3.894768059577875 0.04317612806971736\n",
      "0.00031782734632230457 3.554461004312723e-05\n",
      "-1.619495067522547 0.0805823311916461\n"
     ]
    },
    {
     "data": {
      "text/plain": [
       "<Figure size 432x288 with 0 Axes>"
      ]
     },
     "metadata": {},
     "output_type": "display_data"
    },
    {
     "data": {
      "image/png": "[encoded data removed]",
      "text/plain": [
       "<Figure size 432x288 with 1 Axes>"
      ]
     },
     "metadata": {
      "needs_background": "light"
     },
     "output_type": "display_data"
    }
   ],
   "source": [
    "\n",
    "plt.figure()\n",
    "\n",
    "A0=1000\n",
    "B0=10\n",
    "C0=0.0001\n",
    "D0=1\n",
    "\n",
    "par, cov = curve_fit(fit_func, homeFavs.HomeML, homeFavs.CloseSpread, p0=(A0,B0,C0,D0))\n",
    "\n",
    "A, B, C, D = par\n",
    "dA, dB, dC, dD = np.sqrt(np.diag(cov))\n",
    "\n",
    "sortedData = sorted(homeFavs.HomeML.values)\n",
    "xfit = np.linspace(sortedData[0],sortedData[-1],1000)\n",
    "yfit = fit_func(xfit, A, B, C, D)\n",
    "\n",
    "plt.figure()\n",
    "plt.plot(homeFavs.HomeML, homeFavs.CloseSpread,'b.')\n",
    "plt.plot(xfit, yfit, 'r-')\n",
    "plt.grid()\n",
    "\n",
    "print(A,dA)\n",
    "print(B,dB)\n",
    "print(C,dC)\n",
    "print(D,dD)"
   ]
  },
  {
   "cell_type": "code",
   "execution_count": 17,
   "metadata": {},
   "outputs": [
    {
     "data": {
      "text/plain": [
       "1312"
      ]
     },
     "execution_count": 17,
     "metadata": {},
     "output_type": "execute_result"
    }
   ],
   "source": [
    "df.gameID.count()"
   ]
  },
  {
   "cell_type": "code",
   "execution_count": 38,
   "metadata": {},
   "outputs": [
    {
     "data": {
      "text/plain": [
       "704"
      ]
     },
     "execution_count": 38,
     "metadata": {},
     "output_type": "execute_result"
    }
   ],
   "source": [
    "spread_Rise = df[df['CloseSpread'] > df['OpenSpread']]\n",
    "spread_Rise.gameID.count()\n",
    "\n",
    "\n",
    "\n"
   ]
  },
  {
   "cell_type": "code",
   "execution_count": 37,
   "metadata": {},
   "outputs": [
    {
     "data": {
      "text/plain": [
       "343"
      ]
     },
     "execution_count": 37,
     "metadata": {},
     "output_type": "execute_result"
    }
   ],
   "source": [
    "spread_Rise[spread_Rise['Cover?'] == 'Yes'].gameID.count()"
   ]
  },
  {
   "cell_type": "code",
   "execution_count": 42,
   "metadata": {},
   "outputs": [
    {
     "data": {
      "text/plain": [
       "0.4872159090909091"
      ]
     },
     "execution_count": 42,
     "metadata": {},
     "output_type": "execute_result"
    }
   ],
   "source": [
    "pctCover = (spread_Rise[spread_Rise['Cover?'] == 'Yes'].gameID.count())/(spread_Rise.gameID.count())\n",
    "pctCover"
   ]
  },
  {
   "cell_type": "code",
   "execution_count": null,
   "metadata": {},
   "outputs": [],
   "source": []
  },
  {
   "cell_type": "code",
   "execution_count": 39,
   "metadata": {},
   "outputs": [
    {
     "data": {
      "text/plain": [
       "415"
      ]
     },
     "execution_count": 39,
     "metadata": {},
     "output_type": "execute_result"
    }
   ],
   "source": [
    "spread_Fall = df[df['CloseSpread'] < df['OpenSpread']]\n",
    "spread_Fall.gameID.count()"
   ]
  },
  {
   "cell_type": "code",
   "execution_count": 40,
   "metadata": {},
   "outputs": [
    {
     "data": {
      "text/plain": [
       "203"
      ]
     },
     "execution_count": 40,
     "metadata": {},
     "output_type": "execute_result"
    }
   ],
   "source": [
    "spread_Fall[spread_Fall['Cover?'] == 'Yes'].gameID.count()"
   ]
  },
  {
   "cell_type": "code",
   "execution_count": 43,
   "metadata": {},
   "outputs": [
    {
     "data": {
      "text/plain": [
       "0.4891566265060241"
      ]
     },
     "execution_count": 43,
     "metadata": {},
     "output_type": "execute_result"
    }
   ],
   "source": [
    "pctCover = (spread_Fall[spread_Fall['Cover?'] == 'Yes'].gameID.count())/(spread_Fall.gameID.count())\n",
    "pctCover"
   ]
  },
  {
   "cell_type": "code",
   "execution_count": null,
   "metadata": {},
   "outputs": [],
   "source": [
    "spread_Constant = df[df['CloseSpread'] == df['OpenSpread']]"
   ]
  }
 ],
 "metadata": {
  "kernelspec": {
   "display_name": "Python 3",
   "language": "python",
   "name": "python3"
  },
  "language_info": {
   "codemirror_mode": {
    "name": "ipython",
    "version": 3
   },
   "file_extension": ".py",
   "mimetype": "text/x-python",
   "name": "python",
   "nbconvert_exporter": "python",
   "pygments_lexer": "ipython3",
   "version": "3.8.3"
  }
 },
 "nbformat": 4,
 "nbformat_minor": 2
}
